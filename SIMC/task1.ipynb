{
 "cells": [
  {
   "cell_type": "markdown",
   "metadata": {},
   "source": [
    "# Task 1\n",
    "## Understanding the data\n"
   ]
  },
  {
   "cell_type": "markdown",
   "metadata": {},
   "source": [
    "Firstly, we load the data from endeavour.npz and print its shape to be sure that we have the right matrix with shape - (25, 18, 18)."
   ]
  },
  {
   "cell_type": "markdown",
   "metadata": {},
   "source": [
    "Load our libraries and dataset"
   ]
  },
  {
   "cell_type": "code",
   "execution_count": 7,
   "metadata": {},
   "outputs": [
    {
     "name": "stdout",
     "output_type": "stream",
     "text": [
      "(25, 18, 18)\n"
     ]
    }
   ],
   "source": [
    "import numpy as np\n",
    "import matplotlib.pyplot as plt\n",
    "loaded = np.load('endeavour.npz')\n",
    "task1 = loaded[\"task1\"]\n",
    "print(task1.shape)"
   ]
  },
  {
   "cell_type": "markdown",
   "metadata": {},
   "source": [
    "After ensuring that we have right data. We will make a function which will rotate every pattern by 0° then 90°, 180° and 270°"
   ]
  },
  {
   "cell_type": "markdown",
   "metadata": {},
   "source": [
    "Making a function which rotate a pattern by 0° then 90°, 180° and 270°"
   ]
  },
  {
   "cell_type": "code",
   "execution_count": 18,
   "metadata": {},
   "outputs": [],
   "source": [
    "def rotate_pattern(pattern):\n",
    "    rotations = [pattern]\n",
    "    for _ in range(3):\n",
    "        pattern = np.rot90(pattern)\n",
    "        pattern = np.rot90(pattern)\n",
    "        pattern = np.rot90(pattern)\n",
    "        rotations.append(pattern)\n",
    "    return rotations"
   ]
  },
  {
   "cell_type": "markdown",
   "metadata": {},
   "source": [
    "## 1.a) Rotating the first pattern clockwise"
   ]
  },
  {
   "cell_type": "markdown",
   "metadata": {},
   "source": [
    "Good! Now we will take one of the patterns(first from the data in this case) and we will find it rotations. After that we will plot its rotations(0° then 90°, 180° and 270°)"
   ]
  },
  {
   "cell_type": "markdown",
   "metadata": {},
   "source": [
    "Rotating the first pattern and plotting every needed rotation"
   ]
  },
  {
   "cell_type": "code",
   "execution_count": 19,
   "metadata": {},
   "outputs": [
    {
     "data": {
      "image/png": "[encoded data removed]",
      "text/plain": [
       "<Figure size 500x500 with 4 Axes>"
      ]
     },
     "metadata": {},
     "output_type": "display_data"
    }
   ],
   "source": [
    "# Get the first pattern\n",
    "reference_pattern = task1[0]\n",
    "\n",
    "# Get the rotations\n",
    "rotations = rotate_pattern(reference_pattern)\n",
    "\n",
    "# Plot the rotations\n",
    "fig, axes = plt.subplots(1, 4, figsize=(5, 5))\n",
    "titles = ['0°', '90°', '180°', '270°']\n",
    "for ax, rot, title in zip(axes, rotations, titles):\n",
    "    ax.imshow(rot, cmap='gray_r')\n",
    "    ax.set_title(title)\n",
    "    ax.axis('off')\n",
    "\n",
    "plt.show()\n"
   ]
  },
  {
   "cell_type": "markdown",
   "metadata": {},
   "source": [
    "## 1.b) Listing every pattern as one of the rotation of the first image"
   ]
  },
  {
   "cell_type": "markdown",
   "metadata": {},
   "source": [
    "After receiving the rotations we will compare each pattern from the data with each rotation and find the degree that way."
   ]
  },
  {
   "cell_type": "markdown",
   "metadata": {},
   "source": [
    "Defining a function which will compare a pattern to the rotations of the first pattern and after classifying the representitive counter of the class in the dictionary will be increased with 1."
   ]
  },
  {
   "cell_type": "code",
   "execution_count": 22,
   "metadata": {},
   "outputs": [
    {
     "name": "stdout",
     "output_type": "stream",
     "text": [
      "Number of patterns in each orientation:\n",
      "0 degrees: 6\n",
      "90 degrees: 10\n",
      "180 degrees: 6\n",
      "270 degrees: 3\n"
     ]
    }
   ],
   "source": [
    "def classify_pattern(pattern, rotations):\n",
    "    for i, rot in enumerate(rotations):\n",
    "        if np.array_equal(pattern, rot):\n",
    "            return i * 90\n",
    "    return None\n",
    "\n",
    "orientation_counts = {0: 0, 90: 0, 180: 0, 270: 0}\n",
    "classifications = []\n",
    "\n",
    "for pattern in task1:\n",
    "    orientation = classify_pattern(pattern, rotations)\n",
    "    classifications.append(orientation)\n",
    "    orientation_counts[orientation] += 1\n",
    "\n",
    "print(\"Number of patterns in each orientation:\")\n",
    "for orientation, count in orientation_counts.items():\n",
    "    print(f\"{orientation} degrees: {count}\")\n"
   ]
  },
  {
   "cell_type": "markdown",
   "metadata": {},
   "source": [
    "## Plotting the dataet and trying to be as close as possible to the providen image"
   ]
  },
  {
   "cell_type": "markdown",
   "metadata": {},
   "source": [
    "Finally, we will plot the full dataset and we will try to plot the data exact as the plot from the task :)"
   ]
  },
  {
   "cell_type": "code",
   "execution_count": 23,
   "metadata": {},
   "outputs": [
    {
     "data": {
      "image/png": "[encoded data removed]",
      "text/plain": [
       "<Figure size 500x500 with 25 Axes>"
      ]
     },
     "metadata": {},
     "output_type": "display_data"
    }
   ],
   "source": [
    "fig, axes = plt.subplots(5, 5, figsize=(5, 5))\n",
    "\n",
    "for i, (ax, pattern, orientation) in enumerate(zip(axes.flatten(), task1, classifications)):\n",
    "    if i == 0:\n",
    "        ax.imshow(pattern, cmap='Blues')\n",
    "    else:\n",
    "        ax.imshow(pattern, cmap='gray_r')\n",
    "\n",
    "    # Make borders\n",
    "    for spine in ax.spines.values():\n",
    "        spine.set_edgecolor('black')\n",
    "        spine.set_linewidth(0.5)\n",
    "    ax.set_xticks([])\n",
    "    ax.set_yticks([])\n",
    "\n",
    "\n",
    "plt.subplots_adjust(wspace=0.1, hspace=0.1, left=0.05, right=0.95, top=0.95, bottom=0.05)\n",
    "plt.show()\n"
   ]
  },
  {
   "cell_type": "code",
   "execution_count": null,
   "metadata": {},
   "outputs": [],
   "source": []
  }
 ],
 "metadata": {
  "kernelspec": {
   "display_name": "Python 3",
   "language": "python",
   "name": "python3"
  },
  "language_info": {
   "codemirror_mode": {
    "name": "ipython",
    "version": 3
   },
   "file_extension": ".py",
   "mimetype": "text/x-python",
   "name": "python",
   "nbconvert_exporter": "python",
   "pygments_lexer": "ipython3",
   "version": "3.11.0"
  }
 },
 "nbformat": 4,
 "nbformat_minor": 2
}
